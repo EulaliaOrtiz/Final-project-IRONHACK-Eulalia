{
 "cells": [
  {
   "cell_type": "code",
   "execution_count": 12,
   "id": "69f53b3b",
   "metadata": {},
   "outputs": [],
   "source": [
    "import pandas as pd\n",
    "import numpy as np\n",
    "import matplotlib.pyplot as plt\n",
    "from sklearn.preprocessing import StandardScaler\n",
    "from mpl_toolkits.mplot3d import Axes3D\n",
    "from sklearn.decomposition import TruncatedSVD\n",
    "from scipy.sparse import csr_matrix\n",
    "from sklearn.cluster import KMeans\n",
    "from sklearn.metrics import silhouette_score\n",
    "from sklearn.model_selection import train_test_split\n",
    "from sklearn.tree import DecisionTreeRegressor\n",
    "from sklearn.decomposition import PCA\n",
    "from sklearn.model_selection import train_test_split\n",
    "from sklearn.ensemble import RandomForestClassifier\n",
    "from sklearn.ensemble import GradientBoostingRegressor\n",
    "from sklearn.model_selection import GridSearchCV\n",
    "from sklearn.model_selection import cross_val_score\n",
    "from sklearn.linear_model import LogisticRegression\n",
    "from sklearn.neighbors import KNeighborsClassifier\n",
    "from sklearn.tree import DecisionTreeClassifier\n",
    "from collections import Counter\n",
    "from imblearn.over_sampling import RandomOverSampler \n",
    "import seaborn as sns\n",
    "from imblearn.over_sampling import SMOTE\n",
    "from sklearn.metrics import confusion_matrix, accuracy_score, precision_score, recall_score, ConfusionMatrixDisplay, classification_report"
   ]
  },
  {
   "cell_type": "code",
   "execution_count": 13,
   "id": "a8e65af3",
   "metadata": {},
   "outputs": [],
   "source": [
    "%matplotlib inline"
   ]
  },
  {
   "cell_type": "code",
   "execution_count": 14,
   "id": "1bec8ded",
   "metadata": {},
   "outputs": [],
   "source": [
    "pd.set_option('display.max_columns', None)"
   ]
  },
  {
   "cell_type": "code",
   "execution_count": 15,
   "id": "09b74375",
   "metadata": {},
   "outputs": [],
   "source": [
    "df = pd.read_csv('data.csv')"
   ]
  },
  {
   "cell_type": "markdown",
   "id": "30477381",
   "metadata": {},
   "source": [
    "# Separating the dataset"
   ]
  },
  {
   "cell_type": "code",
   "execution_count": 5,
   "id": "d7c45973",
   "metadata": {},
   "outputs": [],
   "source": [
    "X = df.drop(['Bankrupt?'], axis = 1)\n",
    "y = df['Bankrupt?']"
   ]
  },
  {
   "cell_type": "markdown",
   "id": "ea246009",
   "metadata": {},
   "source": [
    "# Selecting features with the Variance Threshold Method"
   ]
  },
  {
   "cell_type": "code",
   "execution_count": 6,
   "id": "c82942da",
   "metadata": {},
   "outputs": [],
   "source": [
    "X1 = X.copy()"
   ]
  },
  {
   "cell_type": "code",
   "execution_count": 7,
   "id": "8b0b6e1a",
   "metadata": {},
   "outputs": [],
   "source": [
    "from sklearn.preprocessing import MinMaxScaler \n",
    "transformer = MinMaxScaler().fit(X1)\n",
    "x_normalized = transformer.transform(X1)\n",
    "X_norm = pd.DataFrame(x_normalized)\n"
   ]
  },
  {
   "cell_type": "code",
   "execution_count": 8,
   "id": "4109c4f8",
   "metadata": {},
   "outputs": [
    {
     "name": "stdout",
     "output_type": "stream",
     "text": [
      "(6819, 95)\n",
      "(6819, 12)\n"
     ]
    }
   ],
   "source": [
    "from sklearn.feature_selection import VarianceThreshold\n",
    "\n",
    "var_threshold = 0.02\n",
    "sel = VarianceThreshold(threshold=(var_threshold))\n",
    "sel = sel.fit(X_norm)\n",
    "temp = sel.transform(X_norm)\n",
    "VTM_df = pd.DataFrame(temp)\n",
    "print(X1.shape)\n",
    "print(VTM_df.shape)"
   ]
  },
  {
   "cell_type": "code",
   "execution_count": 10,
   "id": "16645557",
   "metadata": {},
   "outputs": [
    {
     "data": {
      "text/plain": [
       "array(['x10', 'x11', 'x28', 'x47', 'x48', 'x54', 'x55', 'x63', 'x70',\n",
       "       'x71', 'x73', 'x76'], dtype=object)"
      ]
     },
     "execution_count": 10,
     "metadata": {},
     "output_type": "execute_result"
    }
   ],
   "source": [
    "list(sel.get_feature_names_out())"
   ]
  },
  {
   "cell_type": "code",
   "execution_count": null,
   "id": "09e30fa8",
   "metadata": {},
   "outputs": [],
   "source": [
    "VTM_df"
   ]
  },
  {
   "cell_type": "markdown",
   "id": "8bfca52d",
   "metadata": {},
   "source": [
    "# Singular Value Decomposition on the variables selected by the variance threshold"
   ]
  },
  {
   "cell_type": "markdown",
   "id": "81e16482",
   "metadata": {},
   "source": [
    "scaler = StandardScaler()\n",
    "scaler.fit(VTM_df)\n",
    "scaler.transform(VTM_df)\n",
    "X_SVD = pd.DataFrame(scaler.transform(VTM_df), columns=VTM_df.columns)"
   ]
  },
  {
   "cell_type": "markdown",
   "id": "d3db8e35",
   "metadata": {},
   "source": [
    "pca = PCA(random_state=5)\n",
    "pca.fit(VTM_df)\n",
    "\n",
    "print(pca.explained_variance_ratio_)\n",
    "\n",
    "X_pca = pd.DataFrame(pca.transform(VTM_df)).iloc[:,0:10]"
   ]
  },
  {
   "cell_type": "markdown",
   "id": "57fd0ce6",
   "metadata": {},
   "source": [
    "plt.rcParams['figure.figsize'] = [15, 10]"
   ]
  },
  {
   "cell_type": "markdown",
   "id": "72f2b958",
   "metadata": {},
   "source": [
    "PC_values = np.arange(pca.n_components_) +1\n",
    "plt.plot(PC_values, pca.explained_variance_ratio_, 'o-', linewidth=1, color='blue')\n",
    "plt.title('Scree Plot')\n",
    "plt.xlabel('Principal Component')\n",
    "plt.ylabel('Variance Explained')\n",
    "plt.show()"
   ]
  },
  {
   "cell_type": "markdown",
   "id": "5e433479",
   "metadata": {},
   "source": [
    "variance_acc_temp = pd.Series(pca.explained_variance_ratio_.cumsum()) \n",
    "print (variance_acc_temp)"
   ]
  },
  {
   "cell_type": "markdown",
   "id": "f0bb7b5e",
   "metadata": {},
   "source": [
    "plt.bar(range(len(variance_acc_temp)), variance_acc_temp, color='royalblue' )\n",
    "plt.grid(color='#95a5a6', linestyle='--', linewidth=0.2, axis='y' )\n",
    "plt.xticks(range(len(variance_acc_temp)))\n",
    "plt.xlabel('PCA')\n",
    "plt.ylabel('Expl_var_ratio_accum')\n",
    "plt.title('Accummulated explained variance ratio')\n",
    "plt.rcParams['figure.figsize'] = [15, 10]\n",
    "\n",
    "\n",
    "plt.show()"
   ]
  },
  {
   "cell_type": "markdown",
   "id": "99279cf4",
   "metadata": {},
   "source": [
    "coefficients= pd.DataFrame(pca.components_)"
   ]
  },
  {
   "cell_type": "markdown",
   "id": "34bc839e",
   "metadata": {},
   "source": [
    "coefficients"
   ]
  },
  {
   "cell_type": "markdown",
   "id": "6410d32c",
   "metadata": {},
   "source": [
    "PCA0 = b00 * col0 + b01 * col1 + ....+ b085 * col95\n",
    "eigen_vector1 = (b00, b01, b02,...)\n",
    "eigen_value = vancianza\n"
   ]
  },
  {
   "cell_type": "markdown",
   "id": "1cb67523",
   "metadata": {},
   "source": [
    "# Balancing the dataset: upsampling and downsampling"
   ]
  },
  {
   "cell_type": "code",
   "execution_count": null,
   "id": "8d4b6985",
   "metadata": {},
   "outputs": [],
   "source": [
    "df_1 = pd.concat([VTM_df, y], axis=1)\n"
   ]
  },
  {
   "cell_type": "code",
   "execution_count": null,
   "id": "ad462f82",
   "metadata": {},
   "outputs": [],
   "source": [
    "y = df_1['Bankrupt?'].astype('int')\n",
    "X = df_1.drop(['Bankrupt?'], axis=1)"
   ]
  },
  {
   "cell_type": "code",
   "execution_count": null,
   "id": "7e16158e",
   "metadata": {},
   "outputs": [],
   "source": [
    "X_train, X_test, y_train, y_test = train_test_split(X,y,test_size=0.2, random_state = 17)"
   ]
  },
  {
   "cell_type": "code",
   "execution_count": null,
   "id": "c4672631",
   "metadata": {},
   "outputs": [],
   "source": [
    "TRAIN = pd.concat([X_train, y_train], axis=1)\n",
    "TRAIN.shape"
   ]
  },
  {
   "cell_type": "code",
   "execution_count": null,
   "id": "57cbec45",
   "metadata": {},
   "outputs": [],
   "source": [
    "(TRAIN[TRAIN[\"Bankrupt?\"]==1])"
   ]
  },
  {
   "cell_type": "markdown",
   "id": "0478991e",
   "metadata": {},
   "source": [
    "## Upsampling the minority class"
   ]
  },
  {
   "cell_type": "code",
   "execution_count": null,
   "id": "2f0f997d",
   "metadata": {},
   "outputs": [],
   "source": [
    "upsample_indexes = np.random.choice(TRAIN[TRAIN[\"Bankrupt?\"]==1].index, size = 400, replace=True).tolist()\n"
   ]
  },
  {
   "cell_type": "code",
   "execution_count": null,
   "id": "bb4bc5f8",
   "metadata": {},
   "outputs": [],
   "source": [
    "upsample = TRAIN.loc[upsample_indexes,:]\n",
    "upsample"
   ]
  },
  {
   "cell_type": "code",
   "execution_count": null,
   "id": "740a0a26",
   "metadata": {},
   "outputs": [],
   "source": []
  },
  {
   "cell_type": "markdown",
   "id": "91d104f7",
   "metadata": {},
   "source": [
    "## Clustering to downsize the majority class"
   ]
  },
  {
   "cell_type": "code",
   "execution_count": null,
   "id": "96fd3420",
   "metadata": {},
   "outputs": [],
   "source": [
    "No_bankrupcies =  TRAIN[(TRAIN['Bankrupt?'] == 0)]"
   ]
  },
  {
   "cell_type": "code",
   "execution_count": null,
   "id": "6bedee1f",
   "metadata": {},
   "outputs": [],
   "source": [
    "kmeans = KMeans(n_clusters=7, random_state=1)\n",
    "kmeans.fit(No_bankrupcies)"
   ]
  },
  {
   "cell_type": "code",
   "execution_count": null,
   "id": "4a1f701f",
   "metadata": {},
   "outputs": [],
   "source": [
    "clusters = kmeans.predict(No_bankrupcies)\n",
    "\n",
    "elem_in_cluster = pd.Series(clusters).value_counts().sort_index() # Number of values in each cluster\n",
    "elem_in_cluster"
   ]
  },
  {
   "cell_type": "code",
   "execution_count": null,
   "id": "d935479d",
   "metadata": {},
   "outputs": [],
   "source": [
    "clusters_weight = []\n",
    "for j in range(len(elem_in_cluster)):\n",
    "    weight = elem_in_cluster[j]/len(No_bankrupcies)\n",
    "    clusters_weight.append(weight)"
   ]
  },
  {
   "cell_type": "code",
   "execution_count": null,
   "id": "a88f98c9",
   "metadata": {},
   "outputs": [],
   "source": [
    "No_bankrupcies[\"cluster\"] = clusters\n",
    "No_bankrupcies"
   ]
  },
  {
   "cell_type": "code",
   "execution_count": null,
   "id": "3f0592c9",
   "metadata": {},
   "outputs": [],
   "source": [
    "new_No_bankrupcies = pd.DataFrame(columns=No_bankrupcies.columns)\n",
    " \n",
    "for cluster, weight in enumerate(clusters_weight):\n",
    "    new_No_bankrupcies = pd.concat([new_No_bankrupcies, No_bankrupcies[No_bankrupcies[\"cluster\"]==cluster].sample(round(400*weight))], axis=0)\n",
    "    \n",
    "new_No_bankrupcies.drop(columns=['cluster'], inplace=True)"
   ]
  },
  {
   "cell_type": "code",
   "execution_count": null,
   "id": "073490ed",
   "metadata": {},
   "outputs": [],
   "source": [
    "final1_df = pd.concat([new_No_bankrupcies, upsample], axis=0)\n",
    "final1_df = final1_df.sort_index()"
   ]
  },
  {
   "cell_type": "code",
   "execution_count": null,
   "id": "21d0641b",
   "metadata": {
    "scrolled": true
   },
   "outputs": [],
   "source": [
    "final1_df.shape"
   ]
  },
  {
   "cell_type": "code",
   "execution_count": null,
   "id": "3e14d8b5",
   "metadata": {},
   "outputs": [],
   "source": [
    "y_train = final1_df['Bankrupt?'].astype('int')\n",
    "X_train = final1_df.drop(['Bankrupt?'], axis=1)"
   ]
  },
  {
   "cell_type": "markdown",
   "id": "b661c99d",
   "metadata": {},
   "source": [
    "# Predicting with KNN"
   ]
  },
  {
   "cell_type": "code",
   "execution_count": null,
   "id": "604cad00",
   "metadata": {},
   "outputs": [],
   "source": [
    "# entrenar distintos modelos con distintos valores de k\n",
    "K = range(2, 14)\n",
    "accuracies = []\n",
    "models = []\n",
    "\n",
    "for k in K:\n",
    "    knn = KNeighborsClassifier(n_neighbors=k) \n",
    "    knn.fit(X_train, y_train)\n",
    "    models.append(knn)\n",
    "    ypred_train = knn.predict(X_train)\n",
    "    accuracies.append(accuracy_score(y_train, ypred_train))\n",
    "    print(\"The accuracy of the model n_neighbors={} is: {:.2f}\".format(k, accuracy_score(y_train, ypred_train)))   "
   ]
  },
  {
   "cell_type": "code",
   "execution_count": null,
   "id": "677fb4a1",
   "metadata": {},
   "outputs": [],
   "source": [
    "import pickle\n",
    "\n",
    "pickel.dump(models[0], "
   ]
  },
  {
   "cell_type": "code",
   "execution_count": null,
   "id": "278eebe6",
   "metadata": {},
   "outputs": [],
   "source": [
    "K = range(2,14)\n",
    "#accuracies = []\n",
    "\n",
    "for i in range(len(models)):\n",
    "    #knn = KNeighborsClassifier(n_neighbors=k) \n",
    "    knn = models[i]\n",
    "    ypred_test = knn.predict(X_test)\n",
    "    accuracies.append(accuracy_score(y_test, ypred_test))\n",
    "    print(\"The accuracy of the model n_neighbors={} is: {:.2f}\".format(k, accuracy_score(y_test, ypred_test)))"
   ]
  },
  {
   "cell_type": "markdown",
   "id": "a28443f5",
   "metadata": {},
   "source": [
    "# Random Forest"
   ]
  },
  {
   "cell_type": "code",
   "execution_count": null,
   "id": "c8353638",
   "metadata": {},
   "outputs": [],
   "source": [
    "clf = RandomForestClassifier(max_depth=4,\n",
    "                             min_samples_split=6,\n",
    "                             min_samples_leaf =3,\n",
    "                             max_samples=0.8)\n",
    "                             #random_state = 42)\n",
    "clf.fit(X_train, y_train)\n",
    "\n",
    "print(\"The accuracy for the Random Forest in the TRAIN set is {:.2f}\".format(clf.score(X_train, y_train)))\n",
    "print(\"The accuracy for the Random Forest in the TEST set is {:.2f}\".format(clf.score(X_test, y_test)))\n",
    "\n",
    "y_pred = clf.predict(X_train)\n",
    "display(pd.DataFrame(y_pred).value_counts())\n",
    "display(y.value_counts())\n",
    "display(confusion_matrix(y_train, y_pred))\n",
    "\n",
    "y_pred = clf.predict(X_test)\n",
    "display(pd.DataFrame(y_pred).value_counts())\n",
    "display(y.value_counts())\n",
    "display(confusion_matrix(y_test, y_pred))\n"
   ]
  },
  {
   "cell_type": "code",
   "execution_count": null,
   "id": "103c6289",
   "metadata": {},
   "outputs": [],
   "source": [
    "from sklearn.model_selection import GridSearchCV\n",
    "\n",
    "max_depth_choices= [2, 3, 5,7,9] \n",
    "min_samples_split_choices = [2,4,6,8,9]  \n",
    "min_samples_leaf_choices = [1,3] \n",
    "max_samples=[0.8,0.5]\n",
    "#n_jobs = [-1]\n",
    "\n",
    "grid = {'max_depth': max_depth_choices,\n",
    "        'min_samples_split': min_samples_split_choices,\n",
    "        'min_samples_leaf': min_samples_leaf_choices,\n",
    "        'max_samples':max_samples}\n",
    "\n",
    "model = RandomForestClassifier()\n",
    "grid_search = GridSearchCV(estimator = model, param_grid = grid, cv = 5) \n",
    "grid_search.fit(X_train, y_train)\n",
    "grid_search.best_score_"
   ]
  },
  {
   "cell_type": "code",
   "execution_count": null,
   "id": "96fef021",
   "metadata": {},
   "outputs": [],
   "source": [
    "grid_search.best_params_"
   ]
  },
  {
   "cell_type": "code",
   "execution_count": null,
   "id": "767875ca",
   "metadata": {},
   "outputs": [],
   "source": [
    "clf = RandomForestClassifier(max_depth= 5,\n",
    "                             min_samples_split=9,\n",
    "                             min_samples_leaf =3,\n",
    "                             max_samples=0.8)\n",
    "                             #random_state = 42)\n",
    "clf.fit(X_train, y_train)\n",
    "\n",
    "print(\"The accuracy for the Random Forest in the TRAIN set is {:.2f}\".format(clf.score(X_train, y_train)))\n",
    "print(\"The accuracy for the Random Forest in the TEST set is {:.2f}\".format(clf.score(X_test, y_test)))\n",
    "\n",
    "y_pred = clf.predict(X_train)\n",
    "display(pd.DataFrame(y_pred).value_counts())\n",
    "display(y.value_counts())\n",
    "display(confusion_matrix(y_train, y_pred))\n",
    "\n",
    "y_pred = clf.predict(X_test)\n",
    "display(pd.DataFrame(y_pred).value_counts())\n",
    "display(y.value_counts())\n",
    "display(confusion_matrix(y_test, y_pred))\n"
   ]
  },
  {
   "cell_type": "code",
   "execution_count": null,
   "id": "dd819597",
   "metadata": {},
   "outputs": [],
   "source": []
  },
  {
   "cell_type": "code",
   "execution_count": null,
   "id": "5f2ac396",
   "metadata": {},
   "outputs": [],
   "source": []
  },
  {
   "cell_type": "code",
   "execution_count": null,
   "id": "fdb823d8",
   "metadata": {},
   "outputs": [],
   "source": []
  },
  {
   "cell_type": "code",
   "execution_count": null,
   "id": "73d7ed1b",
   "metadata": {},
   "outputs": [],
   "source": []
  },
  {
   "cell_type": "code",
   "execution_count": null,
   "id": "820027aa",
   "metadata": {},
   "outputs": [],
   "source": []
  }
 ],
 "metadata": {
  "kernelspec": {
   "display_name": "Python 3 (ipykernel)",
   "language": "python",
   "name": "python3"
  },
  "language_info": {
   "codemirror_mode": {
    "name": "ipython",
    "version": 3
   },
   "file_extension": ".py",
   "mimetype": "text/x-python",
   "name": "python",
   "nbconvert_exporter": "python",
   "pygments_lexer": "ipython3",
   "version": "3.9.12"
  },
  "toc": {
   "base_numbering": 1,
   "nav_menu": {},
   "number_sections": true,
   "sideBar": true,
   "skip_h1_title": false,
   "title_cell": "Table of Contents",
   "title_sidebar": "Contents",
   "toc_cell": false,
   "toc_position": {},
   "toc_section_display": true,
   "toc_window_display": false
  },
  "varInspector": {
   "cols": {
    "lenName": 16,
    "lenType": 16,
    "lenVar": 40
   },
   "kernels_config": {
    "python": {
     "delete_cmd_postfix": "",
     "delete_cmd_prefix": "del ",
     "library": "var_list.py",
     "varRefreshCmd": "print(var_dic_list())"
    },
    "r": {
     "delete_cmd_postfix": ") ",
     "delete_cmd_prefix": "rm(",
     "library": "var_list.r",
     "varRefreshCmd": "cat(var_dic_list()) "
    }
   },
   "types_to_exclude": [
    "module",
    "function",
    "builtin_function_or_method",
    "instance",
    "_Feature"
   ],
   "window_display": false
  }
 },
 "nbformat": 4,
 "nbformat_minor": 5
}
